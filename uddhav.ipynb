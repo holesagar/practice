{
 "cells": [
  {
   "cell_type": "code",
   "execution_count": null,
   "id": "0e79a9d9",
   "metadata": {},
   "outputs": [],
   "source": []
  },
  {
   "cell_type": "code",
   "execution_count": 37,
   "id": "5a865f19",
   "metadata": {},
   "outputs": [],
   "source": [
    "#if we want to inhance functionality of function without change its originbal structure ,the we can do this through decorators"
   ]
  },
  {
   "cell_type": "code",
   "execution_count": 38,
   "id": "c45860ce",
   "metadata": {},
   "outputs": [],
   "source": [
    "def decorator(f):\n",
    "    def inner():\n",
    "        print('*'*20)\n",
    "        f()\n",
    "        print('*'*20)\n",
    "    return inner\n"
   ]
  },
  {
   "cell_type": "code",
   "execution_count": 39,
   "id": "4ecfcea2",
   "metadata": {},
   "outputs": [],
   "source": [
    "def show():\n",
    "    print('welcome')"
   ]
  },
  {
   "cell_type": "code",
   "execution_count": 40,
   "id": "80937560",
   "metadata": {},
   "outputs": [],
   "source": [
    "result=decorator(show)"
   ]
  },
  {
   "cell_type": "code",
   "execution_count": 41,
   "id": "69e9fa69",
   "metadata": {},
   "outputs": [
    {
     "name": "stdout",
     "output_type": "stream",
     "text": [
      "********************\n",
      "welcome\n",
      "********************\n"
     ]
    }
   ],
   "source": [
    "result()\n"
   ]
  },
  {
   "cell_type": "code",
   "execution_count": 42,
   "id": "abc355be",
   "metadata": {},
   "outputs": [],
   "source": [
    "@decorator\n",
    "def new():\n",
    "    print('UDDHAV')"
   ]
  },
  {
   "cell_type": "code",
   "execution_count": 43,
   "id": "bc5f9ce2",
   "metadata": {},
   "outputs": [
    {
     "name": "stdout",
     "output_type": "stream",
     "text": [
      "********************\n",
      "UDDHAV\n",
      "********************\n"
     ]
    }
   ],
   "source": [
    "new()"
   ]
  },
  {
   "cell_type": "code",
   "execution_count": 44,
   "id": "8d7b6fbb",
   "metadata": {},
   "outputs": [],
   "source": [
    "def connection(func):\n",
    "    def s1():\n",
    "        print('fetching data')\n",
    "        func()\n",
    "        print('complete data feaching')\n",
    "    return s1"
   ]
  },
  {
   "cell_type": "code",
   "execution_count": 45,
   "id": "906725d8",
   "metadata": {},
   "outputs": [],
   "source": [
    "def xyz():\n",
    "    print('teli data')"
   ]
  },
  {
   "cell_type": "code",
   "execution_count": 46,
   "id": "24df6f0f",
   "metadata": {},
   "outputs": [],
   "source": [
    "result=connection(xyz)"
   ]
  },
  {
   "cell_type": "code",
   "execution_count": 47,
   "id": "fc0ae867",
   "metadata": {},
   "outputs": [
    {
     "name": "stdout",
     "output_type": "stream",
     "text": [
      "fetching data\n",
      "teli data\n",
      "complete data feaching\n"
     ]
    }
   ],
   "source": [
    "result()"
   ]
  },
  {
   "cell_type": "code",
   "execution_count": 48,
   "id": "693e1766",
   "metadata": {},
   "outputs": [],
   "source": [
    "@connection\n",
    "def xyz():\n",
    "    print('teli data')\n"
   ]
  },
  {
   "cell_type": "code",
   "execution_count": 49,
   "id": "37fe394f",
   "metadata": {},
   "outputs": [
    {
     "name": "stdout",
     "output_type": "stream",
     "text": [
      "fetching data\n",
      "teli data\n",
      "complete data feaching\n"
     ]
    }
   ],
   "source": [
    "xyz()"
   ]
  },
  {
   "cell_type": "code",
   "execution_count": null,
   "id": "b4b4bd96",
   "metadata": {},
   "outputs": [],
   "source": []
  },
  {
   "cell_type": "code",
   "execution_count": null,
   "id": "482af8e1",
   "metadata": {},
   "outputs": [],
   "source": []
  },
  {
   "cell_type": "code",
   "execution_count": null,
   "id": "5b9d85c4",
   "metadata": {},
   "outputs": [],
   "source": []
  },
  {
   "cell_type": "code",
   "execution_count": null,
   "id": "a2bb4796",
   "metadata": {},
   "outputs": [
    {
     "name": "stdout",
     "output_type": "stream",
     "text": [
      "Username\n",
      "Password\n",
      "try again\n",
      "Username\n"
     ]
    }
   ],
   "source": [
    "#use username = root and password = 1234 \n",
    " \n",
    "def lock(function1): \n",
    "    a = input(\"Username\") \n",
    "    b = input(\"Password\") \n",
    "    if a == 'root' and b == '1234': \n",
    "        function1() \n",
    "    else: \n",
    "        print(\"try again\") \n",
    "        return lock(function1) \n",
    "@lock \n",
    "def details(): \n",
    "    print(\"welcome\")"
   ]
  },
  {
   "cell_type": "code",
   "execution_count": null,
   "id": "ec23c1e5",
   "metadata": {},
   "outputs": [],
   "source": []
  }
 ],
 "metadata": {
  "kernelspec": {
   "display_name": "Python 3 (ipykernel)",
   "language": "python",
   "name": "python3"
  },
  "language_info": {
   "codemirror_mode": {
    "name": "ipython",
    "version": 3
   },
   "file_extension": ".py",
   "mimetype": "text/x-python",
   "name": "python",
   "nbconvert_exporter": "python",
   "pygments_lexer": "ipython3",
   "version": "3.9.13"
  }
 },
 "nbformat": 4,
 "nbformat_minor": 5
}
